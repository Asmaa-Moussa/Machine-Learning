{
 "cells": [
  {
   "cell_type": "markdown",
   "id": "4581fec8",
   "metadata": {},
   "source": [
    "# Grid Search\n",
    "Grid search is used for hyper-parameters tuning in order to choose the best combination of hyper-parameters that minimizes the error of the validation set. <br>\n",
    "\n",
    "Grid search works by fitting the model to every possible combination of hyper-parameters. <br>\n",
    "As a result of this, when the number of parameters increase, grid search duration increases."
   ]
  },
  {
   "cell_type": "markdown",
   "id": "53001807",
   "metadata": {},
   "source": [
    "# Grid Search and Polynomial Linear Regression\n",
    "The main goal of this notebook is to give an easy-to-understand example of Polynomial Linear Regression and Grid Search in order to show: <br>\n",
    "1) how grid search works in a simple way <br>\n",
    "2) how increasing the number of hyperparameters increases duration of grid search"
   ]
  },
  {
   "cell_type": "markdown",
   "id": "cad65d60",
   "metadata": {},
   "source": [
    "## Step 1\n",
    "Create x and y data, x is the feature and y is the target.<br>\n",
    "$${Y = {X}^3 + 8{X}^2 + 25{X} + 2}$$\n",
    "\n",
    "As here we are creating both features and target we expect that the best polynomial features that describe the data will be of degree 3"
   ]
  },
  {
   "cell_type": "code",
   "execution_count": 1,
   "id": "fd91adb5",
   "metadata": {},
   "outputs": [],
   "source": [
    "import numpy as np\n",
    "import pandas as pd\n",
    "import timeit\n",
    "import matplotlib.pyplot as plt\n",
    "from sklearn.preprocessing import PolynomialFeatures as PF\n",
    "from sklearn.pipeline import Pipeline\n",
    "from sklearn.linear_model import LinearRegression as LR\n",
    "from sklearn.model_selection import GridSearchCV\n",
    "from sklearn.linear_model import ElasticNet"
   ]
  },
  {
   "cell_type": "code",
   "execution_count": 2,
   "id": "6d971e8e",
   "metadata": {},
   "outputs": [],
   "source": [
    "x = np.linspace(2,30,50).reshape(50,1)"
   ]
  },
  {
   "cell_type": "code",
   "execution_count": 3,
   "id": "a4943e81",
   "metadata": {},
   "outputs": [],
   "source": [
    "y = x**3 + 8*x**2 + 25*x + 2 \n",
    "y = y.reshape(50,1)"
   ]
  },
  {
   "cell_type": "code",
   "execution_count": 4,
   "id": "b92ad821",
   "metadata": {},
   "outputs": [
    {
     "data": {
      "image/png": "[encoded data removed]",
      "text/plain": [
       "<Figure size 432x288 with 1 Axes>"
      ]
     },
     "metadata": {
      "needs_background": "light"
     },
     "output_type": "display_data"
    }
   ],
   "source": [
    "plt.scatter(x,y);\n",
    "plt.xlabel('x');\n",
    "plt.ylabel('y');"
   ]
  },
  {
   "cell_type": "markdown",
   "id": "481de8c3",
   "metadata": {},
   "source": [
    "# Step 2\n",
    "Here we start by creating a pipeline of a polynomial features degree 25 and Linear Regression model"
   ]
  },
  {
   "cell_type": "code",
   "execution_count": 5,
   "id": "614d2678",
   "metadata": {},
   "outputs": [
    {
     "data": {
      "text/plain": [
       "Pipeline(steps=[('poly', PolynomialFeatures(degree=25)),\n",
       "                ('linear', LinearRegression(fit_intercept=False))])"
      ]
     },
     "execution_count": 5,
     "metadata": {},
     "output_type": "execute_result"
    }
   ],
   "source": [
    "model = Pipeline([('poly', PF(degree=25)),\n",
    "                  ('linear',LR(fit_intercept=False))])\n",
    "\n",
    "model.fit(x,y)"
   ]
  },
  {
   "cell_type": "code",
   "execution_count": 6,
   "id": "80fd5038",
   "metadata": {},
   "outputs": [],
   "source": [
    "h = model.predict(x)"
   ]
  },
  {
   "cell_type": "code",
   "execution_count": 7,
   "id": "cc888aa7",
   "metadata": {},
   "outputs": [
    {
     "data": {
      "image/png": "[encoded data removed]",
      "text/plain": [
       "<Figure size 432x288 with 1 Axes>"
      ]
     },
     "metadata": {
      "needs_background": "light"
     },
     "output_type": "display_data"
    }
   ],
   "source": [
    "plt.scatter(x,y);\n",
    "plt.plot(x,h,'r');\n",
    "plt.xlabel('x');\n",
    "plt.legend(['h','y']);"
   ]
  },
  {
   "cell_type": "markdown",
   "id": "e139b8c9",
   "metadata": {},
   "source": [
    "# Result\n",
    "Here we can see that by just choosing the wrong polynomial features degree, model couldn't fit the data"
   ]
  },
  {
   "cell_type": "markdown",
   "id": "1d7a3aa5",
   "metadata": {},
   "source": [
    "# Step 3\n",
    "Using Grid search to only choose the polynomial feature degree that minimizes cross-validation error <br>\n",
    "•param_grid is a dictionary with the hyperparameters as the keys and the range of values the search will be on are the dictionary values."
   ]
  },
  {
   "cell_type": "code",
   "execution_count": 8,
   "id": "b934813a",
   "metadata": {},
   "outputs": [
    {
     "name": "stdout",
     "output_type": "stream",
     "text": [
      "Search Duration of a single hyperparameter:  0.5679496999999998\n"
     ]
    }
   ],
   "source": [
    "# create a pipeline for grid search\n",
    "model_gs = Pipeline([('poly', PF()),\n",
    "                  ('linear',LR())])\n",
    "\n",
    "\n",
    "start = timeit.default_timer()\n",
    "\n",
    "lr = GridSearchCV(model_gs,param_grid = {'poly__degree': np.arange(25)},cv=5)\n",
    "# fit the data to the grid search\n",
    "lr.fit(x,y)\n",
    "\n",
    "stop = timeit.default_timer()\n",
    "\n",
    "print('Search Duration of a single hyperparameter: ', stop - start) "
   ]
  },
  {
   "cell_type": "code",
   "execution_count": 9,
   "id": "08247109",
   "metadata": {},
   "outputs": [
    {
     "data": {
      "text/plain": [
       "{'poly__degree': 3}"
      ]
     },
     "execution_count": 9,
     "metadata": {},
     "output_type": "execute_result"
    }
   ],
   "source": [
    "lr.best_params_"
   ]
  },
  {
   "cell_type": "code",
   "execution_count": 10,
   "id": "400b6dcc",
   "metadata": {},
   "outputs": [
    {
     "data": {
      "text/plain": [
       "dict_keys(['memory', 'steps', 'verbose', 'poly', 'linear', 'poly__degree', 'poly__include_bias', 'poly__interaction_only', 'poly__order', 'linear__copy_X', 'linear__fit_intercept', 'linear__n_jobs', 'linear__normalize', 'linear__positive'])"
      ]
     },
     "execution_count": 10,
     "metadata": {},
     "output_type": "execute_result"
    }
   ],
   "source": [
    "# this line tells you what other hyperparameters your model has\n",
    "model_gs.get_params().keys()"
   ]
  },
  {
   "cell_type": "code",
   "execution_count": 11,
   "id": "b81f30dc",
   "metadata": {},
   "outputs": [],
   "source": [
    "h_gs = lr.predict(x)"
   ]
  },
  {
   "cell_type": "markdown",
   "id": "7ecd4412",
   "metadata": {},
   "source": [
    "# Result\n",
    "When we used grid search the best polynomial feature degree was choosen to be 3 as expected"
   ]
  },
  {
   "cell_type": "code",
   "execution_count": 12,
   "id": "fe2b41bf",
   "metadata": {},
   "outputs": [
    {
     "data": {
      "image/png": "[encoded data removed]",
      "text/plain": [
       "<Figure size 432x288 with 1 Axes>"
      ]
     },
     "metadata": {
      "needs_background": "light"
     },
     "output_type": "display_data"
    }
   ],
   "source": [
    "plt.scatter(x,y);\n",
    "plt.plot(x,h_gs,'r');\n",
    "plt.xlabel('x');\n",
    "plt.legend(['h_gs','y']);"
   ]
  },
  {
   "cell_type": "markdown",
   "id": "fe3ea1bc",
   "metadata": {},
   "source": [
    "# Step 4\n",
    "Repeat the previous steps but with ElasticNet linear regression by searching for polynomial features degree and alpha"
   ]
  },
  {
   "cell_type": "code",
   "execution_count": 13,
   "id": "50f6c98b",
   "metadata": {},
   "outputs": [
    {
     "name": "stdout",
     "output_type": "stream",
     "text": [
      "Search Duration of two hyperparameters:  4.390437\n"
     ]
    }
   ],
   "source": [
    "\n",
    "model_el = Pipeline([('poly', PF()),\n",
    "                  ('elnet',ElasticNet())])\n",
    "\n",
    "start = timeit.default_timer()\n",
    "\n",
    "el = GridSearchCV(model_el,param_grid = {'poly__degree': np.arange(20),\n",
    "                                          'elnet__alpha':[0.01,0.001,0.1,0.003,0.3]},cv=5);\n",
    "el.fit(x,y);\n",
    "\n",
    "stop = timeit.default_timer()\n",
    "\n",
    "print('Search Duration of two hyperparameters: ', stop - start)  "
   ]
  },
  {
   "cell_type": "code",
   "execution_count": 14,
   "id": "51816f07",
   "metadata": {},
   "outputs": [
    {
     "data": {
      "text/plain": [
       "{'elnet__alpha': 0.1, 'poly__degree': 16}"
      ]
     },
     "execution_count": 14,
     "metadata": {},
     "output_type": "execute_result"
    }
   ],
   "source": [
    "el.best_params_"
   ]
  },
  {
   "cell_type": "code",
   "execution_count": 15,
   "id": "07ac58f1",
   "metadata": {},
   "outputs": [],
   "source": [
    "h_el = el.predict(x)"
   ]
  },
  {
   "cell_type": "code",
   "execution_count": 16,
   "id": "c618cf56",
   "metadata": {},
   "outputs": [
    {
     "data": {
      "image/png": "[encoded data removed]",
      "text/plain": [
       "<Figure size 432x288 with 1 Axes>"
      ]
     },
     "metadata": {
      "needs_background": "light"
     },
     "output_type": "display_data"
    }
   ],
   "source": [
    "plt.scatter(x,y);\n",
    "plt.plot(x,h_el,'r');\n",
    "plt.xlabel('x');\n",
    "plt.legend(['h_el','y']);"
   ]
  },
  {
   "cell_type": "code",
   "execution_count": 17,
   "id": "f3376539",
   "metadata": {},
   "outputs": [
    {
     "data": {
      "text/plain": [
       "dict_keys(['memory', 'steps', 'verbose', 'poly', 'elnet', 'poly__degree', 'poly__include_bias', 'poly__interaction_only', 'poly__order', 'elnet__alpha', 'elnet__copy_X', 'elnet__fit_intercept', 'elnet__l1_ratio', 'elnet__max_iter', 'elnet__normalize', 'elnet__positive', 'elnet__precompute', 'elnet__random_state', 'elnet__selection', 'elnet__tol', 'elnet__warm_start'])"
      ]
     },
     "execution_count": 17,
     "metadata": {},
     "output_type": "execute_result"
    }
   ],
   "source": [
    "model_el.get_params().keys()"
   ]
  },
  {
   "cell_type": "markdown",
   "id": "60a5ec4c",
   "metadata": {},
   "source": [
    "# Step 5\n",
    "Repeat the previous steps but with ElasticNet linear regression by searching for polynomial features degree, alpha and L1_ratio"
   ]
  },
  {
   "cell_type": "code",
   "execution_count": 18,
   "id": "2ed00e1e",
   "metadata": {},
   "outputs": [
    {
     "name": "stdout",
     "output_type": "stream",
     "text": [
      "Search Duration of three hyperparameters:  15.812801200000001\n"
     ]
    }
   ],
   "source": [
    "start = timeit.default_timer()\n",
    "\n",
    "el2 = GridSearchCV(model_el,param_grid = {'poly__degree': np.arange(20),\n",
    "                                          'elnet__alpha':[0.01,0.001,0.1,0.003,0.3],\n",
    "                                           'elnet__l1_ratio':[0.01,0.001,0.1,0.003,0.3]},\n",
    "                                           cv=5);\n",
    "el2.fit(x,y);\n",
    "\n",
    "stop = timeit.default_timer()\n",
    "\n",
    "print('Search Duration of three hyperparameters: ', stop - start)  "
   ]
  },
  {
   "cell_type": "code",
   "execution_count": 19,
   "id": "b9d1debf",
   "metadata": {},
   "outputs": [
    {
     "data": {
      "text/plain": [
       "{'elnet__alpha': 0.1, 'elnet__l1_ratio': 0.3, 'poly__degree': 8}"
      ]
     },
     "execution_count": 19,
     "metadata": {},
     "output_type": "execute_result"
    }
   ],
   "source": [
    "el2.best_params_"
   ]
  },
  {
   "cell_type": "code",
   "execution_count": 20,
   "id": "c0dd455e",
   "metadata": {},
   "outputs": [],
   "source": [
    "h_el2 = el2.predict(x)"
   ]
  },
  {
   "cell_type": "code",
   "execution_count": 22,
   "id": "01634853",
   "metadata": {},
   "outputs": [
    {
     "data": {
      "image/png": "[encoded data removed]",
      "text/plain": [
       "<Figure size 432x288 with 1 Axes>"
      ]
     },
     "metadata": {
      "needs_background": "light"
     },
     "output_type": "display_data"
    }
   ],
   "source": [
    "plt.scatter(x,y);\n",
    "plt.plot(x,h_el2,'r');\n",
    "plt.xlabel('x');\n",
    "plt.legend(['h_el2','y']);"
   ]
  },
  {
   "cell_type": "markdown",
   "id": "f43a98ae",
   "metadata": {},
   "source": [
    "# Final Results\n",
    "We can see that grid search did a good job finding the best combinations that fit the data in all three cases, but we can also conclude that the duration of grid search exponentialy increases with the number of hyperparameters. "
   ]
  }
 ],
 "metadata": {
  "kernelspec": {
   "display_name": "Python 3 (ipykernel)",
   "language": "python",
   "name": "python3"
  },
  "language_info": {
   "codemirror_mode": {
    "name": "ipython",
    "version": 3
   },
   "file_extension": ".py",
   "mimetype": "text/x-python",
   "name": "python",
   "nbconvert_exporter": "python",
   "pygments_lexer": "ipython3",
   "version": "3.9.7"
  }
 },
 "nbformat": 4,
 "nbformat_minor": 5
}
